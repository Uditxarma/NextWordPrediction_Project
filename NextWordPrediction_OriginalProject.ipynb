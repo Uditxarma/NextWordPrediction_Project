{
  "nbformat": 4,
  "nbformat_minor": 0,
  "metadata": {
    "colab": {
      "provenance": [],
      "authorship_tag": "ABX9TyPJ1yPyNzWyPHkgwsfs2QBW",
      "include_colab_link": true
    },
    "kernelspec": {
      "name": "python3",
      "display_name": "Python 3"
    },
    "language_info": {
      "name": "python"
    }
  },
  "cells": [
    {
      "cell_type": "markdown",
      "metadata": {
        "id": "view-in-github",
        "colab_type": "text"
      },
      "source": [
        "<a href=\"https://colab.research.google.com/github/Uditxarma/NextWordPrediction_Project/blob/main/NextWordPrediction_OriginalProject.ipynb\" target=\"_parent\"><img src=\"https://colab.research.google.com/assets/colab-badge.svg\" alt=\"Open In Colab\"/></a>"
      ]
    },
    {
      "cell_type": "code",
      "execution_count": null,
      "metadata": {
        "id": "m7vU4P2kvVsS"
      },
      "outputs": [],
      "source": [
        "import tensorflow as tf\n",
        "from tensorflow.keras.preprocessing.text import Tokenizer\n",
        "from tensorflow.keras.layers import Embedding, LSTM, Dense\n",
        "from tensorflow.keras.models import Sequential\n",
        "from tensorflow.keras.utils import to_categorical\n",
        "from tensorflow.keras.optimizers import Adam\n",
        "import pickle\n",
        "import numpy as np\n",
        "import os"
      ]
    },
    {
      "cell_type": "code",
      "source": [
        "from google.colab import drive\n",
        "drive.mount('/content/drive')"
      ],
      "metadata": {
        "colab": {
          "base_uri": "https://localhost:8080/"
        },
        "id": "EesbVfumvgJA",
        "outputId": "5e87ebf9-8567-4d35-d289-9d5c8d3d1c09"
      },
      "execution_count": null,
      "outputs": [
        {
          "output_type": "stream",
          "name": "stdout",
          "text": [
            "Mounted at /content/drive\n"
          ]
        }
      ]
    },
    {
      "cell_type": "code",
      "source": [
        "file = open(\"/content/drive/MyDrive/Next Word Prediction/DataWork.txt\",\"r\",encoding =\"utf8\")  "
      ],
      "metadata": {
        "id": "VuTtIOaKw-Ux"
      },
      "execution_count": null,
      "outputs": []
    },
    {
      "cell_type": "code",
      "source": [
        "lines=[] \n",
        "for i in file:\n",
        "  lines.append(i)\n",
        "data=\"\" \n",
        "for i in lines:\n",
        "  data=' '.join(lines) \n",
        "  data=data.replace('\\n','').replace('\\r','').replace('\\ufeff','').replace('\"','').replace('.','').replace(',','').replace('!','').replace('@','').replace('#','').replace('$','').replace('%','').replace('^','').replace('&','').replace('*','').replace('(','').replace(')','').replace('+','').replace('/','').replace('<','').replace('>','').replace('?','').replace('{','').replace('}','').replace('[','').replace(']','').replace(';','').replace(':','').replace('|','')\n",
        "data=data.split() \n",
        "data=' '.join(data) \n",
        "data[:500]\n"
      ],
      "metadata": {
        "colab": {
          "base_uri": "https://localhost:8080/",
          "height": 70
        },
        "id": "iHeh4upoxCum",
        "outputId": "e1b759ce-696e-45ef-a9c5-d7fd36070a3b"
      },
      "execution_count": null,
      "outputs": [
        {
          "output_type": "execute_result",
          "data": {
            "text/plain": [
              "'The Project Gutenberg eBook of Persuasion by Jane Austen This eBook is for the use of anyone anywhere in the United States and most other parts of the world at no cost and with almost no restrictions whatsoever You may copy it give it away or re-use it under the terms of the Project Gutenberg License included with this eBook or online at wwwgutenbergorg If you are not located in the United States you will have to check the laws of the country where you are located before using this eBook Title P'"
            ],
            "application/vnd.google.colaboratory.intrinsic+json": {
              "type": "string"
            }
          },
          "metadata": {},
          "execution_count": 6
        }
      ]
    },
    {
      "cell_type": "code",
      "source": [
        "len(data)"
      ],
      "metadata": {
        "colab": {
          "base_uri": "https://localhost:8080/"
        },
        "id": "TnTJnD_0xHvR",
        "outputId": "04707e62-d85d-471b-94a2-26ebd0f7a08f"
      },
      "execution_count": null,
      "outputs": [
        {
          "output_type": "execute_result",
          "data": {
            "text/plain": [
              "469882"
            ]
          },
          "metadata": {},
          "execution_count": 7
        }
      ]
    },
    {
      "cell_type": "code",
      "source": [
        "tokenizer = Tokenizer() \n",
        "tokenizer.fit_on_texts([data])\n",
        "pickle.dump(tokenizer,open('token.pk2','wb'))\n",
        "sequence_data = tokenizer.texts_to_sequences([data])[0] \n",
        "sequence_data[:15]"
      ],
      "metadata": {
        "colab": {
          "base_uri": "https://localhost:8080/"
        },
        "id": "W-l-8f9AxLLG",
        "outputId": "71702449-613a-48d3-b84f-cc8da55c6248"
      },
      "execution_count": null,
      "outputs": [
        {
          "output_type": "execute_result",
          "data": {
            "text/plain": [
              "[1, 134, 136, 706, 4, 807, 29, 2123, 2124, 45, 706, 35, 18, 1, 267]"
            ]
          },
          "metadata": {},
          "execution_count": 8
        }
      ]
    },
    {
      "cell_type": "code",
      "source": [
        "len(sequence_data)"
      ],
      "metadata": {
        "colab": {
          "base_uri": "https://localhost:8080/"
        },
        "id": "fV9UFr7X1yz-",
        "outputId": "1fdfa949-89ff-452f-e0a0-e8fc43d954c1"
      },
      "execution_count": null,
      "outputs": [
        {
          "output_type": "execute_result",
          "data": {
            "text/plain": [
              "86730"
            ]
          },
          "metadata": {},
          "execution_count": 9
        }
      ]
    },
    {
      "cell_type": "code",
      "source": [
        "vocab_size = len(tokenizer.word_index)+1 \n",
        "print(vocab_size)"
      ],
      "metadata": {
        "colab": {
          "base_uri": "https://localhost:8080/"
        },
        "id": "2rWUpR1xxZAQ",
        "outputId": "b664efc1-ff12-4588-c368-34fcff146a54"
      },
      "execution_count": null,
      "outputs": [
        {
          "output_type": "stream",
          "name": "stdout",
          "text": [
            "6888\n"
          ]
        }
      ]
    },
    {
      "cell_type": "code",
      "source": [
        "sequences = [] \n",
        "for i in range(3,len(sequence_data)):\n",
        "   words = sequence_data[i-3:i+1]     \n",
        "   sequences.append(words)\n",
        "print(\"The Length of sequence are: \",len(sequences)) \n",
        "sequences =np.array(sequences)\n",
        "sequences[:10]"
      ],
      "metadata": {
        "colab": {
          "base_uri": "https://localhost:8080/"
        },
        "id": "PJppOFu0xdXr",
        "outputId": "714092e6-2f5c-41f2-ceb6-69f64d6e888c"
      },
      "execution_count": null,
      "outputs": [
        {
          "output_type": "stream",
          "name": "stdout",
          "text": [
            "The Length of sequence are:  86727\n"
          ]
        },
        {
          "output_type": "execute_result",
          "data": {
            "text/plain": [
              "array([[   1,  134,  136,  706],\n",
              "       [ 134,  136,  706,    4],\n",
              "       [ 136,  706,    4,  807],\n",
              "       [ 706,    4,  807,   29],\n",
              "       [   4,  807,   29, 2123],\n",
              "       [ 807,   29, 2123, 2124],\n",
              "       [  29, 2123, 2124,   45],\n",
              "       [2123, 2124,   45,  706],\n",
              "       [2124,   45,  706,   35],\n",
              "       [  45,  706,   35,   18]])"
            ]
          },
          "metadata": {},
          "execution_count": 11
        }
      ]
    },
    {
      "cell_type": "code",
      "source": [
        "X=[] \n",
        "Y=[] \n",
        "for i in sequences:     \n",
        "  X.append(i[0:3])\n",
        "  Y.append(i[3])\n",
        "X=np.array(X) \n",
        "Y=np.array(Y)\n",
        "print(\"Data: \",X[:10]) \n",
        "print(\"Response: \",Y[:10])"
      ],
      "metadata": {
        "colab": {
          "base_uri": "https://localhost:8080/"
        },
        "id": "IVgkPazPxi50",
        "outputId": "572f0422-8194-45ef-d2a1-b3ee31db7a92"
      },
      "execution_count": null,
      "outputs": [
        {
          "output_type": "stream",
          "name": "stdout",
          "text": [
            "Data:  [[   1  134  136]\n",
            " [ 134  136  706]\n",
            " [ 136  706    4]\n",
            " [ 706    4  807]\n",
            " [   4  807   29]\n",
            " [ 807   29 2123]\n",
            " [  29 2123 2124]\n",
            " [2123 2124   45]\n",
            " [2124   45  706]\n",
            " [  45  706   35]]\n",
            "Response:  [ 706    4  807   29 2123 2124   45  706   35   18]\n"
          ]
        }
      ]
    },
    {
      "cell_type": "code",
      "source": [
        "Y = to_categorical(Y, num_classes=vocab_size)\n",
        "Y[:5]"
      ],
      "metadata": {
        "colab": {
          "base_uri": "https://localhost:8080/"
        },
        "id": "pzCYw_M331TL",
        "outputId": "9aba3fff-72ee-46ff-c7c5-b3f8870b9193"
      },
      "execution_count": null,
      "outputs": [
        {
          "output_type": "execute_result",
          "data": {
            "text/plain": [
              "array([[0., 0., 0., ..., 0., 0., 0.],\n",
              "       [0., 0., 0., ..., 0., 0., 0.],\n",
              "       [0., 0., 0., ..., 0., 0., 0.],\n",
              "       [0., 0., 0., ..., 0., 0., 0.],\n",
              "       [0., 0., 0., ..., 0., 0., 0.]], dtype=float32)"
            ]
          },
          "metadata": {},
          "execution_count": 23
        }
      ]
    },
    {
      "cell_type": "code",
      "source": [
        "model = Sequential()\n",
        "model.add(Embedding(vocab_size, 10, input_length=3)) \n",
        "model.add(LSTM(1000,return_sequences=True)) \n",
        "model.add(LSTM(1000)) \n",
        "model.add(Dense(1000,activation='relu')) \n",
        "model.add(Dense(vocab_size, activation ='softmax'))"
      ],
      "metadata": {
        "id": "YcIzli1mxrHW"
      },
      "execution_count": null,
      "outputs": []
    },
    {
      "cell_type": "code",
      "source": [
        "model.summary()"
      ],
      "metadata": {
        "colab": {
          "base_uri": "https://localhost:8080/"
        },
        "id": "vYw_54A_5FQ6",
        "outputId": "f296dc3d-4086-4865-df48-0b56da644cc2"
      },
      "execution_count": null,
      "outputs": [
        {
          "output_type": "stream",
          "name": "stdout",
          "text": [
            "Model: \"sequential\"\n",
            "_________________________________________________________________\n",
            " Layer (type)                Output Shape              Param #   \n",
            "=================================================================\n",
            " embedding (Embedding)       (None, 3, 10)             68880     \n",
            "                                                                 \n",
            " lstm (LSTM)                 (None, 3, 1000)           4044000   \n",
            "                                                                 \n",
            " lstm_1 (LSTM)               (None, 1000)              8004000   \n",
            "                                                                 \n",
            " dense (Dense)               (None, 1000)              1001000   \n",
            "                                                                 \n",
            " dense_1 (Dense)             (None, 6888)              6894888   \n",
            "                                                                 \n",
            "=================================================================\n",
            "Total params: 20,012,768\n",
            "Trainable params: 20,012,768\n",
            "Non-trainable params: 0\n",
            "_________________________________________________________________\n"
          ]
        }
      ]
    },
    {
      "cell_type": "code",
      "source": [
        "from tensorflow.keras.callbacks import ModelCheckpoint\n",
        "\n",
        "checkpoint = ModelCheckpoint(\"next_word.h5\", monitor='loss', verbose=1, save_best_only=True)\n",
        "model.compile(loss=\"categorical_crossentropy\", optimizer=Adam(learning_rate=0.001), metrics=['accuracy'])\n",
        "model.fit(X, Y, epochs=70, batch_size=128, callbacks=[checkpoint])\n"
      ],
      "metadata": {
        "colab": {
          "base_uri": "https://localhost:8080/"
        },
        "id": "o2OQ7vfh5Qco",
        "outputId": "8a5e3d71-71fa-4cf3-cf9b-1f449733c1a9"
      },
      "execution_count": null,
      "outputs": [
        {
          "output_type": "stream",
          "name": "stdout",
          "text": [
            "Epoch 1/70\n",
            "678/678 [==============================] - ETA: 0s - loss: 6.5707 - accuracy: 0.0447\n",
            "Epoch 1: loss improved from inf to 6.57068, saving model to next_word.h5\n",
            "678/678 [==============================] - 591s 865ms/step - loss: 6.5707 - accuracy: 0.0447\n",
            "Epoch 2/70\n",
            "678/678 [==============================] - ETA: 0s - loss: 5.9964 - accuracy: 0.0840\n",
            "Epoch 2: loss improved from 6.57068 to 5.99644, saving model to next_word.h5\n",
            "678/678 [==============================] - 588s 868ms/step - loss: 5.9964 - accuracy: 0.0840\n",
            "Epoch 3/70\n",
            "678/678 [==============================] - ETA: 0s - loss: 5.5636 - accuracy: 0.1194\n",
            "Epoch 3: loss improved from 5.99644 to 5.56357, saving model to next_word.h5\n",
            "678/678 [==============================] - 590s 869ms/step - loss: 5.5636 - accuracy: 0.1194\n",
            "Epoch 4/70\n",
            "678/678 [==============================] - ETA: 0s - loss: 5.2914 - accuracy: 0.1302\n",
            "Epoch 4: loss improved from 5.56357 to 5.29136, saving model to next_word.h5\n",
            "678/678 [==============================] - 583s 860ms/step - loss: 5.2914 - accuracy: 0.1302\n",
            "Epoch 5/70\n",
            "678/678 [==============================] - ETA: 0s - loss: 5.0752 - accuracy: 0.1391\n",
            "Epoch 5: loss improved from 5.29136 to 5.07524, saving model to next_word.h5\n",
            "678/678 [==============================] - 584s 861ms/step - loss: 5.0752 - accuracy: 0.1391\n",
            "Epoch 6/70\n",
            "678/678 [==============================] - ETA: 0s - loss: 4.8859 - accuracy: 0.1480\n",
            "Epoch 6: loss improved from 5.07524 to 4.88586, saving model to next_word.h5\n",
            "678/678 [==============================] - 586s 865ms/step - loss: 4.8859 - accuracy: 0.1480\n",
            "Epoch 7/70\n",
            "678/678 [==============================] - ETA: 0s - loss: 4.6970 - accuracy: 0.1557\n",
            "Epoch 7: loss improved from 4.88586 to 4.69696, saving model to next_word.h5\n",
            "678/678 [==============================] - 580s 856ms/step - loss: 4.6970 - accuracy: 0.1557\n",
            "Epoch 8/70\n",
            "678/678 [==============================] - ETA: 0s - loss: 4.4893 - accuracy: 0.1653\n",
            "Epoch 8: loss improved from 4.69696 to 4.48934, saving model to next_word.h5\n",
            "678/678 [==============================] - 578s 853ms/step - loss: 4.4893 - accuracy: 0.1653\n",
            "Epoch 9/70\n",
            "678/678 [==============================] - ETA: 0s - loss: 4.2558 - accuracy: 0.1756\n",
            "Epoch 9: loss improved from 4.48934 to 4.25580, saving model to next_word.h5\n",
            "678/678 [==============================] - 579s 853ms/step - loss: 4.2558 - accuracy: 0.1756\n",
            "Epoch 10/70\n",
            "678/678 [==============================] - ETA: 0s - loss: 4.0029 - accuracy: 0.1928\n",
            "Epoch 10: loss improved from 4.25580 to 4.00293, saving model to next_word.h5\n",
            "678/678 [==============================] - 577s 851ms/step - loss: 4.0029 - accuracy: 0.1928\n",
            "Epoch 11/70\n",
            "678/678 [==============================] - ETA: 0s - loss: 3.7330 - accuracy: 0.2186\n",
            "Epoch 11: loss improved from 4.00293 to 3.73296, saving model to next_word.h5\n",
            "678/678 [==============================] - 582s 858ms/step - loss: 3.7330 - accuracy: 0.2186\n",
            "Epoch 12/70\n",
            "678/678 [==============================] - ETA: 0s - loss: 3.4689 - accuracy: 0.2484\n",
            "Epoch 12: loss improved from 3.73296 to 3.46888, saving model to next_word.h5\n",
            "678/678 [==============================] - 583s 860ms/step - loss: 3.4689 - accuracy: 0.2484\n",
            "Epoch 13/70\n",
            "678/678 [==============================] - ETA: 0s - loss: 3.2259 - accuracy: 0.2801\n",
            "Epoch 13: loss improved from 3.46888 to 3.22590, saving model to next_word.h5\n",
            "678/678 [==============================] - 594s 876ms/step - loss: 3.2259 - accuracy: 0.2801\n",
            "Epoch 14/70\n",
            "678/678 [==============================] - ETA: 0s - loss: 2.9959 - accuracy: 0.3140\n",
            "Epoch 14: loss improved from 3.22590 to 2.99591, saving model to next_word.h5\n",
            "678/678 [==============================] - 583s 859ms/step - loss: 2.9959 - accuracy: 0.3140\n",
            "Epoch 15/70\n",
            "678/678 [==============================] - ETA: 0s - loss: 2.7838 - accuracy: 0.3483\n",
            "Epoch 15: loss improved from 2.99591 to 2.78382, saving model to next_word.h5\n",
            "678/678 [==============================] - 578s 853ms/step - loss: 2.7838 - accuracy: 0.3483\n",
            "Epoch 16/70\n",
            "678/678 [==============================] - ETA: 0s - loss: 2.5811 - accuracy: 0.3825\n",
            "Epoch 16: loss improved from 2.78382 to 2.58111, saving model to next_word.h5\n",
            "678/678 [==============================] - 582s 858ms/step - loss: 2.5811 - accuracy: 0.3825\n",
            "Epoch 17/70\n",
            "678/678 [==============================] - ETA: 0s - loss: 2.3847 - accuracy: 0.4160\n",
            "Epoch 17: loss improved from 2.58111 to 2.38466, saving model to next_word.h5\n",
            "678/678 [==============================] - 584s 861ms/step - loss: 2.3847 - accuracy: 0.4160\n",
            "Epoch 18/70\n",
            "678/678 [==============================] - ETA: 0s - loss: 2.1929 - accuracy: 0.4546\n",
            "Epoch 18: loss improved from 2.38466 to 2.19294, saving model to next_word.h5\n",
            "678/678 [==============================] - 583s 859ms/step - loss: 2.1929 - accuracy: 0.4546\n",
            "Epoch 19/70\n",
            "678/678 [==============================] - ETA: 0s - loss: 2.0040 - accuracy: 0.4923\n",
            "Epoch 19: loss improved from 2.19294 to 2.00396, saving model to next_word.h5\n",
            "678/678 [==============================] - 584s 861ms/step - loss: 2.0040 - accuracy: 0.4923\n",
            "Epoch 20/70\n",
            "678/678 [==============================] - ETA: 0s - loss: 1.8189 - accuracy: 0.5325\n",
            "Epoch 20: loss improved from 2.00396 to 1.81891, saving model to next_word.h5\n",
            "678/678 [==============================] - 589s 869ms/step - loss: 1.8189 - accuracy: 0.5325\n",
            "Epoch 21/70\n",
            "678/678 [==============================] - ETA: 0s - loss: 1.6312 - accuracy: 0.5726\n",
            "Epoch 21: loss improved from 1.81891 to 1.63121, saving model to next_word.h5\n",
            "678/678 [==============================] - 589s 869ms/step - loss: 1.6312 - accuracy: 0.5726\n",
            "Epoch 22/70\n",
            "678/678 [==============================] - ETA: 0s - loss: 1.4561 - accuracy: 0.6174\n",
            "Epoch 22: loss improved from 1.63121 to 1.45612, saving model to next_word.h5\n",
            "678/678 [==============================] - 586s 864ms/step - loss: 1.4561 - accuracy: 0.6174\n",
            "Epoch 23/70\n",
            "678/678 [==============================] - ETA: 0s - loss: 1.2960 - accuracy: 0.6549\n",
            "Epoch 23: loss improved from 1.45612 to 1.29603, saving model to next_word.h5\n",
            "678/678 [==============================] - 578s 852ms/step - loss: 1.2960 - accuracy: 0.6549\n",
            "Epoch 24/70\n",
            "678/678 [==============================] - ETA: 0s - loss: 1.1396 - accuracy: 0.6963\n",
            "Epoch 24: loss improved from 1.29603 to 1.13961, saving model to next_word.h5\n",
            "678/678 [==============================] - 570s 840ms/step - loss: 1.1396 - accuracy: 0.6963\n",
            "Epoch 25/70\n",
            "678/678 [==============================] - ETA: 0s - loss: 1.0165 - accuracy: 0.7288\n",
            "Epoch 25: loss improved from 1.13961 to 1.01653, saving model to next_word.h5\n",
            "678/678 [==============================] - 577s 851ms/step - loss: 1.0165 - accuracy: 0.7288\n",
            "Epoch 26/70\n",
            "678/678 [==============================] - ETA: 0s - loss: 0.9074 - accuracy: 0.7587\n",
            "Epoch 26: loss improved from 1.01653 to 0.90736, saving model to next_word.h5\n",
            "678/678 [==============================] - 580s 855ms/step - loss: 0.9074 - accuracy: 0.7587\n",
            "Epoch 27/70\n",
            "678/678 [==============================] - ETA: 0s - loss: 0.8207 - accuracy: 0.7813\n",
            "Epoch 27: loss improved from 0.90736 to 0.82068, saving model to next_word.h5\n",
            "678/678 [==============================] - 581s 856ms/step - loss: 0.8207 - accuracy: 0.7813\n",
            "Epoch 28/70\n",
            "678/678 [==============================] - ETA: 0s - loss: 0.7513 - accuracy: 0.7997\n",
            "Epoch 28: loss improved from 0.82068 to 0.75130, saving model to next_word.h5\n",
            "678/678 [==============================] - 585s 862ms/step - loss: 0.7513 - accuracy: 0.7997\n",
            "Epoch 29/70\n",
            "678/678 [==============================] - ETA: 0s - loss: 0.6938 - accuracy: 0.8161\n",
            "Epoch 29: loss improved from 0.75130 to 0.69378, saving model to next_word.h5\n",
            "678/678 [==============================] - 587s 865ms/step - loss: 0.6938 - accuracy: 0.8161\n",
            "Epoch 30/70\n",
            "678/678 [==============================] - ETA: 0s - loss: 0.6523 - accuracy: 0.8248\n",
            "Epoch 30: loss improved from 0.69378 to 0.65226, saving model to next_word.h5\n",
            "678/678 [==============================] - 583s 860ms/step - loss: 0.6523 - accuracy: 0.8248\n",
            "Epoch 31/70\n",
            "678/678 [==============================] - ETA: 0s - loss: 0.6222 - accuracy: 0.8323\n",
            "Epoch 31: loss improved from 0.65226 to 0.62224, saving model to next_word.h5\n",
            "678/678 [==============================] - 577s 851ms/step - loss: 0.6222 - accuracy: 0.8323\n",
            "Epoch 32/70\n",
            "678/678 [==============================] - ETA: 0s - loss: 0.5967 - accuracy: 0.8374\n",
            "Epoch 32: loss improved from 0.62224 to 0.59674, saving model to next_word.h5\n",
            "678/678 [==============================] - 581s 857ms/step - loss: 0.5967 - accuracy: 0.8374\n",
            "Epoch 33/70\n",
            "678/678 [==============================] - ETA: 0s - loss: 0.5725 - accuracy: 0.8426\n",
            "Epoch 33: loss improved from 0.59674 to 0.57248, saving model to next_word.h5\n",
            "678/678 [==============================] - 587s 866ms/step - loss: 0.5725 - accuracy: 0.8426\n",
            "Epoch 34/70\n",
            "678/678 [==============================] - ETA: 0s - loss: 0.5557 - accuracy: 0.8436\n",
            "Epoch 34: loss improved from 0.57248 to 0.55571, saving model to next_word.h5\n",
            "678/678 [==============================] - 584s 862ms/step - loss: 0.5557 - accuracy: 0.8436\n",
            "Epoch 35/70\n",
            "678/678 [==============================] - ETA: 0s - loss: 0.5415 - accuracy: 0.8456\n",
            "Epoch 35: loss improved from 0.55571 to 0.54150, saving model to next_word.h5\n",
            "678/678 [==============================] - 577s 851ms/step - loss: 0.5415 - accuracy: 0.8456\n",
            "Epoch 36/70\n",
            "678/678 [==============================] - ETA: 0s - loss: 0.5246 - accuracy: 0.8493\n",
            "Epoch 36: loss improved from 0.54150 to 0.52464, saving model to next_word.h5\n",
            "678/678 [==============================] - 578s 852ms/step - loss: 0.5246 - accuracy: 0.8493\n",
            "Epoch 37/70\n",
            "678/678 [==============================] - ETA: 0s - loss: 0.5086 - accuracy: 0.8520\n",
            "Epoch 37: loss improved from 0.52464 to 0.50856, saving model to next_word.h5\n",
            "678/678 [==============================] - 571s 842ms/step - loss: 0.5086 - accuracy: 0.8520\n",
            "Epoch 38/70\n",
            "678/678 [==============================] - ETA: 0s - loss: 0.4999 - accuracy: 0.8518\n",
            "Epoch 38: loss improved from 0.50856 to 0.49988, saving model to next_word.h5\n",
            "678/678 [==============================] - 572s 844ms/step - loss: 0.4999 - accuracy: 0.8518\n",
            "Epoch 39/70\n",
            "678/678 [==============================] - ETA: 0s - loss: 0.4872 - accuracy: 0.8538\n",
            "Epoch 39: loss improved from 0.49988 to 0.48718, saving model to next_word.h5\n",
            "678/678 [==============================] - 579s 853ms/step - loss: 0.4872 - accuracy: 0.8538\n",
            "Epoch 40/70\n",
            "678/678 [==============================] - ETA: 0s - loss: 0.4778 - accuracy: 0.8547\n",
            "Epoch 40: loss improved from 0.48718 to 0.47783, saving model to next_word.h5\n",
            "678/678 [==============================] - 573s 845ms/step - loss: 0.4778 - accuracy: 0.8547\n",
            "Epoch 41/70\n",
            "678/678 [==============================] - ETA: 0s - loss: 0.4722 - accuracy: 0.8554\n",
            "Epoch 41: loss improved from 0.47783 to 0.47220, saving model to next_word.h5\n",
            "678/678 [==============================] - 573s 845ms/step - loss: 0.4722 - accuracy: 0.8554\n",
            "Epoch 42/70\n",
            "678/678 [==============================] - ETA: 0s - loss: 0.4607 - accuracy: 0.8564\n",
            "Epoch 42: loss improved from 0.47220 to 0.46071, saving model to next_word.h5\n",
            "678/678 [==============================] - 569s 839ms/step - loss: 0.4607 - accuracy: 0.8564\n",
            "Epoch 43/70\n",
            "678/678 [==============================] - ETA: 0s - loss: 0.4574 - accuracy: 0.8552\n",
            "Epoch 43: loss improved from 0.46071 to 0.45744, saving model to next_word.h5\n",
            "678/678 [==============================] - 582s 858ms/step - loss: 0.4574 - accuracy: 0.8552\n",
            "Epoch 44/70\n",
            "678/678 [==============================] - ETA: 0s - loss: 0.4500 - accuracy: 0.8563\n",
            "Epoch 44: loss improved from 0.45744 to 0.45000, saving model to next_word.h5\n",
            "678/678 [==============================] - 585s 862ms/step - loss: 0.4500 - accuracy: 0.8563\n",
            "Epoch 45/70\n",
            "678/678 [==============================] - ETA: 0s - loss: 0.4402 - accuracy: 0.8576\n",
            "Epoch 45: loss improved from 0.45000 to 0.44021, saving model to next_word.h5\n",
            "678/678 [==============================] - 587s 866ms/step - loss: 0.4402 - accuracy: 0.8576\n",
            "Epoch 46/70\n",
            "678/678 [==============================] - ETA: 0s - loss: 0.4347 - accuracy: 0.8575\n",
            "Epoch 46: loss improved from 0.44021 to 0.43469, saving model to next_word.h5\n",
            "678/678 [==============================] - 580s 856ms/step - loss: 0.4347 - accuracy: 0.8575\n",
            "Epoch 47/70\n",
            "678/678 [==============================] - ETA: 0s - loss: 0.4296 - accuracy: 0.8590\n",
            "Epoch 47: loss improved from 0.43469 to 0.42961, saving model to next_word.h5\n",
            "678/678 [==============================] - 577s 851ms/step - loss: 0.4296 - accuracy: 0.8590\n",
            "Epoch 48/70\n",
            "678/678 [==============================] - ETA: 0s - loss: 0.4210 - accuracy: 0.8589\n",
            "Epoch 48: loss improved from 0.42961 to 0.42099, saving model to next_word.h5\n",
            "678/678 [==============================] - 574s 846ms/step - loss: 0.4210 - accuracy: 0.8589\n",
            "Epoch 49/70\n",
            "678/678 [==============================] - ETA: 0s - loss: 0.4212 - accuracy: 0.8579\n",
            "Epoch 49: loss did not improve from 0.42099\n",
            "678/678 [==============================] - 575s 847ms/step - loss: 0.4212 - accuracy: 0.8579\n",
            "Epoch 50/70\n",
            "678/678 [==============================] - ETA: 0s - loss: 0.4140 - accuracy: 0.8581\n",
            "Epoch 50: loss improved from 0.42099 to 0.41399, saving model to next_word.h5\n",
            "678/678 [==============================] - 577s 851ms/step - loss: 0.4140 - accuracy: 0.8581\n",
            "Epoch 51/70\n",
            "678/678 [==============================] - ETA: 0s - loss: 0.4053 - accuracy: 0.8599\n",
            "Epoch 51: loss improved from 0.41399 to 0.40535, saving model to next_word.h5\n",
            "678/678 [==============================] - 572s 843ms/step - loss: 0.4053 - accuracy: 0.8599\n",
            "Epoch 52/70\n",
            "678/678 [==============================] - ETA: 0s - loss: 0.4000 - accuracy: 0.8594\n",
            "Epoch 52: loss improved from 0.40535 to 0.40001, saving model to next_word.h5\n",
            "678/678 [==============================] - 576s 850ms/step - loss: 0.4000 - accuracy: 0.8594\n",
            "Epoch 53/70\n",
            "678/678 [==============================] - ETA: 0s - loss: 0.3971 - accuracy: 0.8600\n",
            "Epoch 53: loss improved from 0.40001 to 0.39715, saving model to next_word.h5\n",
            "678/678 [==============================] - 583s 860ms/step - loss: 0.3971 - accuracy: 0.8600\n",
            "Epoch 54/70\n",
            "678/678 [==============================] - ETA: 0s - loss: 0.3975 - accuracy: 0.8585\n",
            "Epoch 54: loss did not improve from 0.39715\n",
            "678/678 [==============================] - 586s 864ms/step - loss: 0.3975 - accuracy: 0.8585\n",
            "Epoch 55/70\n",
            "678/678 [==============================] - ETA: 0s - loss: 0.3943 - accuracy: 0.8586\n",
            "Epoch 55: loss improved from 0.39715 to 0.39429, saving model to next_word.h5\n",
            "678/678 [==============================] - 577s 852ms/step - loss: 0.3943 - accuracy: 0.8586\n",
            "Epoch 56/70\n",
            "678/678 [==============================] - ETA: 0s - loss: 0.3913 - accuracy: 0.8585\n",
            "Epoch 56: loss improved from 0.39429 to 0.39130, saving model to next_word.h5\n",
            "678/678 [==============================] - 572s 844ms/step - loss: 0.3913 - accuracy: 0.8585\n",
            "Epoch 57/70\n",
            "678/678 [==============================] - ETA: 0s - loss: 0.3836 - accuracy: 0.8597\n",
            "Epoch 57: loss improved from 0.39130 to 0.38356, saving model to next_word.h5\n",
            "678/678 [==============================] - 575s 847ms/step - loss: 0.3836 - accuracy: 0.8597\n",
            "Epoch 58/70\n",
            "678/678 [==============================] - ETA: 0s - loss: 0.3787 - accuracy: 0.8602\n",
            "Epoch 58: loss improved from 0.38356 to 0.37871, saving model to next_word.h5\n",
            "678/678 [==============================] - 573s 845ms/step - loss: 0.3787 - accuracy: 0.8602\n",
            "Epoch 59/70\n",
            "678/678 [==============================] - ETA: 0s - loss: 0.3770 - accuracy: 0.8601\n",
            "Epoch 59: loss improved from 0.37871 to 0.37701, saving model to next_word.h5\n",
            "678/678 [==============================] - 584s 861ms/step - loss: 0.3770 - accuracy: 0.8601\n",
            "Epoch 60/70\n",
            "678/678 [==============================] - ETA: 0s - loss: 0.3755 - accuracy: 0.8600\n",
            "Epoch 60: loss improved from 0.37701 to 0.37554, saving model to next_word.h5\n",
            "678/678 [==============================] - 587s 866ms/step - loss: 0.3755 - accuracy: 0.8600\n",
            "Epoch 61/70\n",
            "678/678 [==============================] - ETA: 0s - loss: 0.3669 - accuracy: 0.8613\n",
            "Epoch 61: loss improved from 0.37554 to 0.36690, saving model to next_word.h5\n",
            "678/678 [==============================] - 578s 853ms/step - loss: 0.3669 - accuracy: 0.8613\n",
            "Epoch 62/70\n",
            "678/678 [==============================] - ETA: 0s - loss: 0.3645 - accuracy: 0.8610\n",
            "Epoch 62: loss improved from 0.36690 to 0.36454, saving model to next_word.h5\n",
            "678/678 [==============================] - 579s 854ms/step - loss: 0.3645 - accuracy: 0.8610\n",
            "Epoch 63/70\n",
            "678/678 [==============================] - ETA: 0s - loss: 0.3630 - accuracy: 0.8613\n",
            "Epoch 63: loss improved from 0.36454 to 0.36303, saving model to next_word.h5\n",
            "678/678 [==============================] - 590s 870ms/step - loss: 0.3630 - accuracy: 0.8613\n",
            "Epoch 64/70\n",
            "678/678 [==============================] - ETA: 0s - loss: 0.3630 - accuracy: 0.8607\n",
            "Epoch 64: loss improved from 0.36303 to 0.36297, saving model to next_word.h5\n",
            "678/678 [==============================] - 589s 869ms/step - loss: 0.3630 - accuracy: 0.8607\n",
            "Epoch 65/70\n",
            "678/678 [==============================] - ETA: 0s - loss: 0.3634 - accuracy: 0.8598\n",
            "Epoch 65: loss did not improve from 0.36297\n",
            "678/678 [==============================] - 595s 877ms/step - loss: 0.3634 - accuracy: 0.8598\n",
            "Epoch 66/70\n",
            "678/678 [==============================] - ETA: 0s - loss: 0.3590 - accuracy: 0.8600\n",
            "Epoch 66: loss improved from 0.36297 to 0.35897, saving model to next_word.h5\n",
            "678/678 [==============================] - 588s 867ms/step - loss: 0.3590 - accuracy: 0.8600\n",
            "Epoch 67/70\n",
            "678/678 [==============================] - ETA: 0s - loss: 0.3540 - accuracy: 0.8609\n",
            "Epoch 67: loss improved from 0.35897 to 0.35398, saving model to next_word.h5\n",
            "678/678 [==============================] - 587s 866ms/step - loss: 0.3540 - accuracy: 0.8609\n",
            "Epoch 68/70\n",
            "678/678 [==============================] - ETA: 0s - loss: 0.3539 - accuracy: 0.8599\n",
            "Epoch 68: loss improved from 0.35398 to 0.35394, saving model to next_word.h5\n",
            "678/678 [==============================] - 589s 869ms/step - loss: 0.3539 - accuracy: 0.8599\n",
            "Epoch 69/70\n",
            "678/678 [==============================] - ETA: 0s - loss: 0.3507 - accuracy: 0.8600\n",
            "Epoch 69: loss improved from 0.35394 to 0.35075, saving model to next_word.h5\n",
            "678/678 [==============================] - 583s 860ms/step - loss: 0.3507 - accuracy: 0.8600\n",
            "Epoch 70/70\n",
            "678/678 [==============================] - ETA: 0s - loss: 0.3436 - accuracy: 0.8621\n",
            "Epoch 70: loss improved from 0.35075 to 0.34363, saving model to next_word.h5\n",
            "678/678 [==============================] - 584s 861ms/step - loss: 0.3436 - accuracy: 0.8621\n"
          ]
        },
        {
          "output_type": "execute_result",
          "data": {
            "text/plain": [
              "<keras.callbacks.History at 0x7f8780379790>"
            ]
          },
          "metadata": {},
          "execution_count": 14
        }
      ]
    },
    {
      "cell_type": "code",
      "source": [
        "from tensorflow.keras.models import load_model\n",
        "import numpy as np\n",
        "import pickle\n",
        "\n",
        "# Load the model and tokenizer\n",
        "model = load_model('/content/drive/MyDrive/Next Word Prediction/next_word.h5')\n",
        "tokenizer = pickle.load(open('token.pk2', 'rb'))\n",
        "\n",
        "def Predict_Next_Words(model, tokenizer, text):\n",
        "\n",
        "  sequence = tokenizer.texts_to_sequences([text])\n",
        "  sequence = np.array(sequence)\n",
        "  preds = np.argmax(model.predict(sequence))\n",
        "  predicted_word = \"\"\n",
        "  \n",
        "  for key, value in tokenizer.word_index.items():\n",
        "      if value == preds:\n",
        "          predicted_word = key\n",
        "          break\n",
        "  \n",
        "  print(predicted_word)\n",
        "  return predicted_word"
      ],
      "metadata": {
        "id": "sQprCH0sxzya"
      },
      "execution_count": null,
      "outputs": []
    },
    {
      "cell_type": "code",
      "source": [
        "while(True):\n",
        "  text = input(\"Enter your line: \")\n",
        "  \n",
        "  if text == \"0\":\n",
        "      print(\"Execution completed.....\")\n",
        "      break\n",
        "  \n",
        "  else:\n",
        "      try:\n",
        "          text = text.split(\" \")\n",
        "          text = text[-3:]\n",
        "          print(text)\n",
        "        \n",
        "          Predict_Next_Words(model, tokenizer, text)\n",
        "          \n",
        "      except Exception as e:\n",
        "        print(\"Error occurred: \",e)\n",
        "        continue\n",
        "        "
      ],
      "metadata": {
        "colab": {
          "base_uri": "https://localhost:8080/"
        },
        "id": "J3NeMe-kxnQw",
        "outputId": "d2c8521d-097e-4064-b99d-2e5f988393c1"
      },
      "execution_count": null,
      "outputs": [
        {
          "output_type": "stream",
          "name": "stdout",
          "text": [
            "Enter your line: He considered the\n",
            "['He', 'considered', 'the']\n",
            "1/1 [==============================] - 2s 2s/step\n",
            "blessing\n",
            "Enter your line: had attempted no\n",
            "['had', 'attempted', 'no']\n",
            "1/1 [==============================] - 0s 42ms/step\n",
            "apology\n",
            "Enter your line: 0\n",
            "Execution completed.....\n"
          ]
        }
      ]
    }
  ]
}